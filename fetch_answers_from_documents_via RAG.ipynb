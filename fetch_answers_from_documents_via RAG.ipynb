{
  "cells": [
    {
      "cell_type": "markdown",
      "metadata": {
        "id": "4Tw3tvMs6R-Y"
      },
      "source": [
        "# Install Packages and Setup Variables\n"
      ]
    },
    {
      "cell_type": "code",
      "execution_count": null,
      "metadata": {
        "colab": {
          "base_uri": "https://localhost:8080/"
        },
        "collapsed": true,
        "id": "HaB4G9zr0BYm",
        "outputId": "899993fe-c339-4839-d05b-9121386b728c"
      },
      "outputs": [
        {
          "name": "stdout",
          "output_type": "stream",
          "text": [
            "Note: you may need to restart the kernel to use updated packages.\n"
          ]
        }
      ],
      "source": [
        "%pip install -q cohere==5.13.12"
      ]
    },
    {
      "cell_type": "code",
      "execution_count": null,
      "metadata": {
        "id": "MYvUA6CF2Le6"
      },
      "outputs": [],
      "source": [
        "import os\n",
        "\n",
        "os.getenv(\"COHERE_API_KEY\")\n",
        "os. getenv(\"GOOGLE_API_KEY\")\n"
      ]
    },
    {
      "cell_type": "markdown",
      "metadata": {
        "id": "D8Nzx-cN_bDz"
      },
      "source": [
        "# Load Dataset\n"
      ]
    },
    {
      "cell_type": "markdown",
      "metadata": {
        "id": "NT68BDYt-GkG"
      },
      "source": [
        "The dataset includes several articles from the TowardsAI blog, which provide an in-depth explanation of the LLaMA2 model.\n"
      ]
    },
    {
      "cell_type": "code",
      "execution_count": null,
      "metadata": {
        "colab": {
          "base_uri": "https://localhost:8080/"
        },
        "id": "p6NEJT9S2OoH",
        "outputId": "02192c22-0c39-4db8-9ad2-4cd89d34d346"
      },
      "outputs": [],
      "source": [
        "import urllib.request\n",
        "import os\n",
        "PROJECT_ROOT=\"<Root Directory path of your project>\"\n",
        "\n",
        "\n",
        "# url = 'https://raw.githubusercontent.com/AlaFalaki/tutorial_notebooks/main/data/mini-llama-articles.csv'\n",
        "# filename =  os.path.join(PROJECT_ROOT,\"mini-llama-articles.csv\")\n",
        "\n",
        "url = 'https://raw.githubusercontent.com/AlaFalaki/tutorial_notebooks/main/data/mini-llama-articles-with_embeddings.csv'\n",
        "filename =  os.path.join(PROJECT_ROOT,\"mini-llama-articles-with_embeddings.csv\")\n",
        "\n",
        "urllib.request.urlretrieve(url, filename)\n",
        "\n",
        "#On jupyter notebook use wget\n",
        "#!wget https://raw.githubusercontent.com/AlaFalaki/tutorial_notebooks/main/data/mini-llama-articles.csv\n",
        "#!wget https://raw.githubusercontent.com/AlaFalaki/tutorial_notebooks/main/data/mini-llama-articles-with_embeddings.csv"
      ]
    },
    {
      "cell_type": "markdown",
      "metadata": {
        "id": "21pFDgNdW9rO"
      },
      "source": [
        "# Generate Embedding for data retrieved from a URL\n"
      ]
    },
    {
      "cell_type": "markdown",
      "metadata": {
        "id": "RLhI8qPFmIUo"
      },
      "source": [
        "\n",
        "To reference Cohere's embed  API refer to : https://docs.cohere.com/v2/reference/embed\n",
        "\n",
        "To pick the \"*input_type*\" for \"*embed*\" API  refer to :https://docs.cohere.com/v2/docs/embeddings\n",
        "\n",
        "Alternatively OpenAI embeddings can be referneced here: https://platform.openai.com/docs/guides/embeddings?lang=python"
      ]
    },
    {
      "cell_type": "code",
      "execution_count": 36,
      "metadata": {},
      "outputs": [],
      "source": [
        "def split_into_chunks(text, chunk_size=1024):\n",
        "    chunks = []\n",
        "    for i in range(0, len(text), chunk_size):\n",
        "        chunks.append(text[i : i + chunk_size])\n",
        "\n",
        "    return chunks"
      ]
    },
    {
      "cell_type": "code",
      "execution_count": 37,
      "metadata": {},
      "outputs": [],
      "source": [
        "import csv\n",
        "chunks = []\n",
        "\n",
        "with open(filename, mode=\"r\", encoding=\"utf-8\") as file:\n",
        "    csv_reader = csv.reader(file)\n",
        "    \n",
        "    for idx, row in enumerate(csv_reader):\n",
        "        if idx == 0:\n",
        "            continue\n",
        "            # Skip header row\n",
        "        chunks.extend(split_into_chunks(row[1]))"
      ]
    },
    {
      "cell_type": "code",
      "execution_count": 38,
      "metadata": {},
      "outputs": [
        {
          "data": {
            "text/plain": [
              "Index(['chunk'], dtype='object')"
            ]
          },
          "execution_count": 38,
          "metadata": {},
          "output_type": "execute_result"
        }
      ],
      "source": [
        "import pandas as pd\n",
        "\n",
        "df = pd.DataFrame(chunks, columns=[\"chunk\"])\n",
        "\n",
        "df.keys()"
      ]
    },
    {
      "cell_type": "markdown",
      "metadata": {},
      "source": [
        "Function to generate embeddings"
      ]
    },
    {
      "cell_type": "code",
      "execution_count": 40,
      "metadata": {},
      "outputs": [],
      "source": [
        "def get_embedding(text):\n",
        "    try:\n",
        "        # Remove newlines\n",
        "        text = text.replace(\"\\n\", \" \")\n",
        "        res = client.embed(\n",
        "            texts=[text],\n",
        "            model=\"embed-english-v3.0\",\n",
        "            input_type=\"search_document\",\n",
        "            embedding_types=[\"float\"],\n",
        "        )\n",
        "\n",
        "        return res.embeddings.float\n",
        "\n",
        "    except Exception as e:\n",
        "        print(f\"Error in get_embedding: {e}\")  # Print the actual error message\n",
        "        return None"
      ]
    },
    {
      "cell_type": "markdown",
      "metadata": {},
      "source": [
        "Generate embeddigns for the data retrived from https://raw.githubusercontent.com/AlaFalaki/tutorial_notebooks/main/data/mini-llama-articles.csv"
      ]
    },
    {
      "cell_type": "code",
      "execution_count": 43,
      "metadata": {},
      "outputs": [],
      "source": [
        "generate_embeddings = False"
      ]
    },
    {
      "cell_type": "code",
      "execution_count": null,
      "metadata": {
        "colab": {
          "base_uri": "https://localhost:8080/"
        },
        "id": "YDwDpWS126C9",
        "outputId": "8fed9bf7-3ff2-461f-b840-f20d53adc13f"
      },
      "outputs": [
        {
          "name": "stdout",
          "output_type": "stream",
          "text": [
            "[[-0.051940918, 0.016220093, -0.026977539, 0.023254395, -0.03265381, 0.0013895035, -0.059295654, -0.034088135, -0.0793457, 0.018936157, 0.08276367, -0.009437561, -0.025558472, -0.076660156, 0.061950684, -0.005760193, 0.020645142, 0.029251099, -0.014053345, -0.015853882, -0.026535034, 0.029251099, -0.073913574, 0.097473145, 0.031585693, 0.010421753, -0.08892822, 0.040863037, 1.0788441e-05, 0.021209717, 0.008575439, -0.010910034, 0.020858765, 0.029556274, -0.022888184, 0.051086426, -0.018692017, 0.031188965, 0.023742676, -0.009811401, 0.04006958, -0.031433105, 0.04510498, 0.00121212, -0.00060653687, -0.019332886, 0.05722046, -0.0134887695, -0.040740967, -0.049560547, 0.00013530254, -0.0015735626, 0.018463135, -0.0020122528, 0.013435364, 0.008102417, 0.0151901245, -0.006816864, 0.019241333, -0.00642395, -0.03918457, 0.0211792, 0.032043457, -0.013908386, 0.015731812, -0.017593384, -0.043548584, 0.0345459, 0.025482178, 0.017425537, -0.0032138824, -0.03375244, 0.0129776, -0.03265381, 0.015434265, -0.014854431, -0.033843994, -5.3048134e-05, 0.011207581, -0.002670288, 0.043518066, 0.018936157, -5.8352947e-05, -0.014671326, 0.04748535, 0.024047852, 0.016052246, -0.035369873, 0.032958984, -0.04144287, 0.014976501, -0.010978699, -0.022079468, 0.072021484, 0.011421204, -0.04638672, 0.0006341934, -0.01927185, -0.027877808, -0.034179688, -0.00680542, -0.019195557, -0.030654907, 0.0063476562, -0.016860962, 0.0013418198, 0.025970459, 0.035125732, 0.020065308, 0.009986877, -0.022445679, 0.02835083, 0.047332764, 0.026733398, -0.007972717, -0.06100464, -0.032562256, 0.039642334, -0.009429932, -0.014640808, -0.013664246, 0.0067253113, 0.03338623, 0.057281494, -0.0033416748, 0.037750244, 0.005329132, -0.047912598, -0.01689148, -0.020553589, 0.027633667, 0.07611084, -0.071777344, -0.0637207, -0.083618164, 0.023544312, 0.032287598, 0.025436401, -0.03125, 0.010421753, -0.03375244, -0.025802612, -0.0019626617, -0.038513184, 0.039398193, 0.050964355, 0.041290283, -0.013267517, -0.009643555, -0.030075073, -0.023025513, 0.03869629, -0.021438599, 0.025421143, 0.044067383, 0.04272461, -0.012832642, 0.024856567, 0.018615723, 0.054870605, -0.008262634, 0.0062446594, 0.048828125, 0.0004515648, -0.001455307, 0.010627747, -0.027694702, 0.00088357925, 0.008918762, 0.057159424, -0.07269287, 0.017440796, 0.002773285, -0.011497498, -0.013389587, 0.022735596, -0.008331299, 0.0063819885, 0.011230469, -0.009384155, -0.0029029846, -0.028656006, -0.014709473, 0.026046753, -0.053375244, 0.029632568, -0.009262085, 0.0793457, 0.042236328, 0.022125244, -0.04916382, -0.014373779, -0.0027980804, -0.008666992, -0.031555176, -0.018615723, 0.008766174, 0.0135269165, -0.029830933, 0.040130615, 0.019943237, 0.010375977, -0.019378662, -0.021621704, -0.019805908, -0.016540527, 0.004550934, 0.012191772, 0.017410278, 0.051208496, 0.0115737915, -0.013755798, -0.028289795, 0.028625488, -0.018249512, -0.06188965, 0.008010864, -0.026977539, -0.013595581, -0.01979065, -0.014274597, 0.012809753, -0.048065186, 0.029067993, 0.016067505, -0.0093688965, 0.026367188, -0.024551392, 0.062072754, 0.011962891, 0.04864502, -0.035583496, 0.020645142, 0.036956787, -0.0023765564, -0.014907837, 0.031204224, -0.04949951, 0.01966858, 0.030181885, -0.015045166, 0.010848999, -0.04156494, 0.01889038, 0.055664062, 0.09863281, 0.031143188, 0.01826477, -0.0020008087, 0.011940002, 0.058746338, -0.035217285, 0.01033783, -0.03765869, 0.002658844, 0.042114258, 0.002603531, -0.0033855438, 0.0077209473, 0.051696777, -0.0066604614, 0.043304443, 0.01864624, -0.0009665489, -0.030715942, -0.018798828, 0.0077781677, 0.016815186, -0.0061302185, -0.013320923, 0.018432617, 0.01701355, 0.010719299, -0.029434204, -0.067871094, -0.05419922, 0.035736084, 0.043060303, -0.037139893, -0.058624268, 0.008666992, 0.02407837, 0.026550293, 0.009284973, 0.010017395, 0.010749817, 0.01651001, 0.040527344, 0.0055885315, -0.0012226105, 0.0390625, 0.013923645, 0.019515991, 0.013870239, -0.03475952, -0.016433716, -0.017852783, 0.035369873, -0.018478394, -0.011993408, -0.062408447, 0.017868042, 0.03152466, -0.044525146, 0.0107040405, 0.038848877, 0.014091492, 0.008544922, 0.00068616867, 0.051727295, -0.07965088, 0.011116028, 0.01828003, 0.041992188, -0.01826477, -0.04071045, -0.00080251694, 0.02029419, -0.024673462, -0.008682251, 0.05731201, 0.06640625, 0.013420105, 0.0084991455, 0.05722046, -0.05166626, -0.0057296753, -0.01826477, 0.023025513, -0.037078857, -0.0256958, -0.05343628, -0.042663574, -0.04321289, 0.0055732727, -0.017288208, -0.0016450882, 0.101257324, 0.010284424, -0.016281128, 0.014045715, -0.07232666, -0.008659363, 0.03265381, 0.010787964, -0.044067383, -0.001414299, -0.0033340454, -0.009010315, 0.025466919, 0.0064582825, 0.002040863, 0.011024475, -0.015235901, 0.04547119, -0.06762695, -0.057617188, 0.0027980804, -0.01864624, -0.056793213, 0.021499634, -0.0035037994, -0.034942627, -0.062927246, 0.033203125, -0.047546387, -0.039611816, -0.007698059, -0.025161743, -0.0071983337, -0.04623413, -0.023986816, 0.007587433, 0.007686615, 0.0009584427, 0.04824829, -0.0044174194, -0.02041626, 0.0055160522, -0.006362915, 0.047943115, 0.0146102905, 0.08294678, 0.04034424, 0.010025024, 0.040252686, 0.054656982, 0.018875122, 0.019683838, -0.033569336, -0.016098022, 0.023757935, 0.05316162, -0.017089844, 0.026657104, 0.025421143, -0.056671143, -0.011360168, -0.039916992, 0.0003478527, 0.035888672, -0.041778564, 0.009666443, -0.028427124, -0.025512695, -0.070617676, -0.034362793, 0.00843811, 0.023040771, 0.015258789, 0.02041626, -0.015098572, 0.044708252, -0.051757812, -0.0036029816, -0.009017944, -0.034179688, 0.0129852295, -0.008987427, 0.0011672974, 0.0051727295, 0.014228821, 0.014518738, 0.024719238, -0.01309967, 0.04107666, 0.003112793, 0.0037555695, 0.0004172325, 0.015304565, 0.011123657, -0.0045814514, -0.022781372, -0.024734497, 0.015350342, -0.02029419, -0.037597656, -0.0028514862, -0.014320374, -0.0017929077, -0.0423584, -0.009902954, 0.0104522705, -0.00034570694, 0.027572632, -0.050231934, 0.014404297, -0.0095825195, 0.0026741028, 0.019317627, -0.013343811, 0.0022888184, 0.0030059814, 0.004043579, -0.028076172, -0.02217102, -0.06451416, 0.017913818, 0.027282715, -0.015525818, 0.0010118484, 0.0027656555, -0.047302246, -0.0008649826, -0.03451538, 0.021865845, 0.0011491776, -0.0025081635, -0.033721924, 0.009338379, -0.007980347, 0.048858643, -0.005619049, -0.03842163, -0.009262085, -0.035491943, 0.053833008, 0.0008993149, 0.0149383545, -0.0736084, -0.0030097961, 0.010055542, 0.007671356, 0.0013217926, 0.016464233, 0.00014269352, -0.028121948, 0.012512207, 0.015792847, 0.0028038025, -0.0002734661, 0.011123657, 0.0016489029, 0.02368164, 0.006591797, -0.019180298, -0.0056037903, -0.0075263977, -0.014259338, -0.03805542, -0.03778076, -0.005672455, -0.0625, -0.004852295, -0.020019531, -0.05532837, 0.021530151, 0.02709961, 0.03982544, -0.0005187988, 0.03543091, 0.0053100586, 0.01991272, 0.0071907043, -0.010238647, 0.04309082, -0.012336731, 0.00497818, 0.0056266785, -0.012619019, 0.02128601, 0.010009766, 0.017700195, -3.838539e-05, 0.018371582, 0.03390503, -0.026931763, 0.017425537, -0.016098022, -0.024353027, 0.003250122, 0.021820068, 0.039886475, 0.019500732, 9.769201e-05, -0.00390625, -0.004272461, -0.053710938, -0.026947021, -0.01058197, 0.023284912, 0.030593872, -0.042114258, -0.008087158, -0.008636475, -0.03829956, 0.0013122559, 0.033477783, 0.03439331, 0.021652222, 0.004764557, -0.009483337, 0.0075569153, -0.008728027, -0.024246216, -0.05532837, -0.021636963, -0.0036334991, -0.010398865, 0.028518677, -0.0034942627, 0.03062439, -0.021148682, -0.0024986267, 0.005378723, 0.0071411133, -0.02432251, -0.028152466, 0.03869629, -0.072509766, -0.029678345, -0.0546875, -0.011894226, 0.0054130554, -0.0058670044, 0.047973633, -0.016296387, 0.00078725815, -0.017913818, -0.013160706, 0.016601562, 0.029083252, 0.0010213852, 0.002784729, -0.034210205, 0.006832123, -0.0017147064, -0.0071029663, -0.046661377, -0.020080566, 0.048736572, -0.0022029877, 0.04083252, 0.013671875, -0.02017212, -0.047332764, 0.02331543, -0.08050537, -0.03552246, -0.01524353, -0.00068473816, -0.01763916, -0.02104187, -0.016342163, 0.087402344, -0.001458168, 0.031707764, 0.022354126, -0.028060913, 0.015327454, -0.0034103394, 0.05307007, -0.026123047, -0.024871826, -0.04562378, 0.03189087, 0.00028443336, -0.009117126, 0.044647217, -0.019989014, 0.04208374, -0.002691269, 0.011741638, 0.05117798, 0.011550903, -0.012710571, -0.0022850037, 0.02722168, 0.0037326813, -0.011047363, 0.021728516, -0.010414124, -0.05001831, -0.100097656, -0.004589081, 0.07373047, -0.0037136078, -0.019958496, 0.021438599, 0.03366089, -0.040924072, 0.01890564, 0.0037975311, 0.02758789, 0.026489258, -0.070373535, -0.01612854, 0.020141602, -0.017501831, -0.024337769, -0.080322266, -0.004234314, 0.047180176, 0.015716553, -0.017990112, 0.017211914, -0.020812988, -0.0031280518, 0.0063285828, -0.04498291, -0.0340271, 0.03363037, -0.030700684, 0.003332138, -0.015289307, -0.020370483, 0.044708252, 0.03237915, -0.02935791, -0.006389618, 0.008666992, -0.04055786, -0.010848999, -0.02848816, 0.017837524, 0.015472412, 0.003955841, 0.029449463, 0.020568848, -0.03640747, -0.0069084167, 0.03375244, 0.032806396, -0.0029277802, -0.038604736, 0.059692383, 0.003993988, -0.039886475, -0.03643799, -0.040527344, -0.07122803, 0.018463135, -0.05444336, 0.0025196075, 0.05130005, -0.01876831, -0.01398468, -0.0051574707, 0.031280518, -0.028640747, 0.0020427704, 0.01449585, -0.002620697, 0.006340027, 0.0003926754, -0.01576233, -0.027252197, 0.011695862, -0.0031719208, 0.016036987, -3.3438206e-05, 0.017440796, -0.018844604, -0.010009766, 0.022064209, 0.003238678, 0.060150146, 0.06378174, 0.032348633, -0.039123535, 0.012123108, -0.018814087, 0.013633728, -0.010894775, 0.016067505, -0.052612305, 0.011566162, 0.014144897, -0.011672974, -0.014305115, -0.033721924, 0.03552246, 0.008369446, -0.049957275, 0.0023765564, -0.08862305, 0.0009775162, -0.013404846, -0.023605347, 0.012550354, 0.09259033, -0.014381409, 0.04095459, -0.010231018, -0.0037651062, 0.034301758, 0.0024433136, -0.022445679, 0.013702393, 0.009223938, 0.01789856, -0.004463196, -0.039611816, -0.037750244, -0.020721436, -0.04196167, 0.008544922, 0.03543091, -0.017181396, 0.00013196468, -0.03189087, 0.0066375732, 0.022537231, 0.048583984, -0.030563354, 0.06311035, -0.005130768, -0.016708374, 0.00020956993, 0.0057907104, 0.0031604767, 0.01360321, -0.022903442, -0.042114258, 0.0103302, 0.03286743, 0.00944519, -0.034332275, -0.02003479, 0.055603027, 0.021530151, 0.043518066, -0.0491333, -0.04425049, 0.021820068, 0.008232117, -0.002368927, -0.012084961, -0.00995636, -0.028213501, -0.021652222, 0.052459717, 0.039367676, -0.013648987, 0.024215698, 0.010810852, 0.009414673, 0.0024223328, 0.003189087, -0.0021343231, 0.03778076, -0.07946777, 0.017288208, -0.020141602, -0.001159668, -0.037017822, -0.027862549, 0.045959473, 0.017822266, 0.011001587, 0.012863159, -0.012359619, 0.028198242, 0.0440979, 0.048919678, 0.05657959, -0.02029419, -0.015899658, -0.005329132, -0.06329346, 0.021865845, 0.035705566, -0.0057411194, -0.0036182404, -0.030151367, -0.025634766, -0.017593384, -0.0068359375, 0.0259552, 0.042419434, -0.0040779114, -0.0008134842, -0.035125732, -0.005996704, 0.014709473, 0.016204834, -0.006881714, 0.035858154, 0.0028800964, -0.029403687, 0.05731201, -0.0082473755, 0.023788452, 0.04788208, -0.058746338, 0.012779236, 0.04385376, -0.017730713, 0.02381897, 0.06488037, 0.005016327, 0.011657715, 0.03744507, -0.028625488, -0.0032215118, 0.03024292, 0.01965332, -0.04626465, -0.035186768, -0.04901123, -0.012664795, 0.02267456, 0.03024292, 0.012794495, -0.028381348, 0.062164307, -0.024734497, 0.015045166, 0.0073509216, 0.04071045, 0.025772095, 0.0385437, 0.03427124, -0.021057129, -0.028442383, 0.013801575, -0.0071372986, -0.03842163, 0.020980835, 0.013633728, 0.028167725, 0.028396606, 0.016799927, -0.020446777, -0.00058078766, 0.010292053, -0.0048561096, 0.016845703, -0.007610321, 0.0063171387, -0.026535034, -0.022476196, -0.011398315, 0.013442993, -0.017959595, 0.051940918, -0.026321411, 0.0287323, -0.034484863, -0.013748169, -0.008979797, -0.03164673, 0.0025920868, -0.030807495, -0.06402588, 0.0138549805, 0.041534424, 0.016525269, -0.011795044, -0.039794922, 0.008613586, -0.0036945343, 0.02420044, 0.050109863, -0.027999878, 0.008125305, 0.045135498, 0.040252686, 0.0836792, -0.019561768, -0.029037476, -0.006916046, 0.026382446, 0.032165527, -0.066345215, -0.033355713, -0.033111572, 0.04031372, -0.008117676, -0.044891357, -0.04348755, -0.05606079, -0.058929443, 0.07299805, 0.0016222, -0.026657104, -0.009902954, 0.031463623, 0.014633179, -0.06951904, -0.010757446, -0.018051147, -0.018127441, -0.029953003, -0.027267456, 0.046142578, -0.0026283264, -0.0335083, 0.0038280487, -0.0051841736, 0.0036411285, -0.009216309, -0.0028686523, 0.038269043, -0.02935791, 0.060302734, -0.005542755, -0.05493164, -0.046417236, -0.05734253, -0.038024902, 0.018173218, 0.044403076, 0.06390381, 0.021530151, 0.06463623, -0.010894775, -0.059509277, 0.03112793, 0.031280518, 0.04940796, 0.0035552979, -0.027038574, 0.017868042, 0.0040779114, 0.0044288635, 0.022323608, -0.004421234, -0.0053253174, 0.027999878, -0.011871338, 0.06121826, -0.00046396255, 0.0032138824, 0.08331299, -0.053497314, 0.0044288635, 0.008804321, -0.029251099, -0.035949707, -0.030273438, -0.01826477, -0.013908386, 0.022659302, -0.015472412, 0.004245758, 0.002325058, 0.013374329, -0.010978699, 0.012466431, -0.02809143, 0.026184082, 0.027770996, 0.017868042, -0.02911377, 0.04849243, 0.022613525, 0.040527344, -0.009338379, -0.02444458, -0.008895874, 0.027023315, -0.051239014, 0.013000488, -0.03378296, -0.07183838, 0.02708435, -0.017242432, 0.020339966, -0.010406494, -0.013626099, 0.055236816, -0.0072669983, 0.014022827]]\n"
          ]
        }
      ],
      "source": [
        "# Test the function\n",
        "text_to_embed = \"How many parameters LLaMA2 model has?\"\n",
        "#\"Hello World\"\n",
        "embedding = get_embedding(text_to_embed)\n",
        "print(embedding)"
      ]
    },
    {
      "cell_type": "code",
      "execution_count": 47,
      "metadata": {},
      "outputs": [],
      "source": [
        "#Flag to contorl the number of times  embeddings will be generated. We are limited by the number of API calls because this is a free account.\n",
        "load_embedding_from_csv = True"
      ]
    },
    {
      "cell_type": "code",
      "execution_count": 90,
      "metadata": {
        "colab": {
          "base_uri": "https://localhost:8080/"
        },
        "id": "qC6aeFr3Rmi2",
        "outputId": "4c4cc0c6-e8cc-43db-800e-0a6d4e8eed4d"
      },
      "outputs": [
        {
          "name": "stdout",
          "output_type": "stream",
          "text": [
            "Loaded the embedding file.\n"
          ]
        }
      ],
      "source": [
        "from tqdm.notebook import tqdm\n",
        "import numpy as np\n",
        "import pandas as pd\n",
        "\n",
        "# Generate embedding\n",
        "if not load_embedding_from_csv:\n",
        "    print(\"Generating embeddings...\")\n",
        "    embeddings = []\n",
        "    for index, row in tqdm(df.iterrows()):\n",
        "        # df.at[index, 'embedding'] = get_embedding( row['chunk'] )\n",
        "        embeddings.append(get_embedding(row[\"chunk\"]))\n",
        "\n",
        "    embeddings_values = pd.Series(embeddings)\n",
        "    df.insert(loc=1, column=\"embedding\", value=embeddings_values)\n",
        "\n",
        "# Or, load the embedding from the file.\n",
        "else:\n",
        "    print(\"Loaded the embedding file.\")\n",
        "    # Load the file as a CSV\n",
        "    df = pd.read_csv(filename)\n",
        "    # Convert embedding column to an array\n",
        "    df[\"embedding\"] = df[\"embedding\"].apply(lambda x: np.array(eval(x)), 0)"
      ]
    },
    {
      "cell_type": "markdown",
      "metadata": {
        "id": "E_qrXwImXrXJ"
      },
      "source": [
        "# User Question\n"
      ]
    },
    {
      "cell_type": "code",
      "execution_count": 91,
      "metadata": {
        "colab": {
          "base_uri": "https://localhost:8080/"
        },
        "id": "xGTa7cqCX97q",
        "outputId": "0f420a01-5b24-4e9a-dc7a-7987910a77eb"
      },
      "outputs": [],
      "source": [
        "# Define the user question, and convert it to embedding.\n",
        "QUESTION = \"How many parameters LLaMA2 model has?\"\n",
        "QUESTION_emb = get_embedding(QUESTION)"
      ]
    },
    {
      "cell_type": "markdown",
      "metadata": {
        "id": "BXNzNWrJYWhU"
      },
      "source": [
        "# Test Cosine Similarity\n"
      ]
    },
    {
      "cell_type": "markdown",
      "metadata": {
        "id": "Vxaq-FgLIhIj"
      },
      "source": [
        "Calculating the similarity of embedding representations can help us to find pieces of text that are close to each other. In the following sample you see how the Cosine Similarity metric can identify which sentence could be a possible answer for the given user question. Obviously, the unrelated answer will score lower.\n"
      ]
    },
    {
      "cell_type": "code",
      "execution_count": 119,
      "metadata": {
        "id": "LqDWcPd4b-ZI"
      },
      "outputs": [],
      "source": [
        "BAD_SOURCE_emb = get_embedding(\"The sky is blue.\")\n",
        "GOOD_SOURCE_emb = get_embedding(\"LLaMA2 model has a total of 2B parameters.\")"
      ]
    },
    {
      "cell_type": "code",
      "execution_count": 120,
      "metadata": {
        "colab": {
          "base_uri": "https://localhost:8080/"
        },
        "id": "omYKAkkJ5RBN",
        "outputId": "e1d9b61b-527a-4eec-9784-9d5a005abe5f"
      },
      "outputs": [
        {
          "name": "stdout",
          "output_type": "stream",
          "text": [
            "Requirement already satisfied: scikit-learn in ./opt/anaconda3/lib/python3.9/site-packages (0.24.2)\n",
            "Requirement already satisfied: numpy>=1.13.3 in ./opt/anaconda3/lib/python3.9/site-packages (from scikit-learn) (1.20.3)\n",
            "Requirement already satisfied: threadpoolctl>=2.0.0 in ./opt/anaconda3/lib/python3.9/site-packages (from scikit-learn) (2.2.0)\n",
            "Requirement already satisfied: scipy>=0.19.1 in ./opt/anaconda3/lib/python3.9/site-packages (from scikit-learn) (1.7.1)\n",
            "Requirement already satisfied: joblib>=0.11 in ./opt/anaconda3/lib/python3.9/site-packages (from scikit-learn) (1.1.0)\n",
            "Note: you may need to restart the kernel to use updated packages.\n"
          ]
        }
      ],
      "source": [
        "%pip install scikit-learn"
      ]
    },
    {
      "cell_type": "code",
      "execution_count": null,
      "metadata": {
        "colab": {
          "base_uri": "https://localhost:8080/"
        },
        "id": "OI00eN86YZKB",
        "outputId": "fa04987a-3da1-474b-c0ca-472bd7b7e418"
      },
      "outputs": [],
      "source": [
        "from sklearn.metrics.pairwise import cosine_similarity\n",
        "\n",
        "# A sample that how a good piece of text can achieve high similarity score compared\n",
        "# to a completely unrelated text.\n",
        "print(\"> Bad Response Score:\", cosine_similarity(QUESTION_emb, BAD_SOURCE_emb))\n",
        "print(\"> Good Response Score:\", cosine_similarity(QUESTION_emb, GOOD_SOURCE_emb))"
      ]
    },
    {
      "cell_type": "markdown",
      "metadata": {},
      "source": [
        "UTILITY FUNCTIONS"
      ]
    },
    {
      "cell_type": "code",
      "execution_count": null,
      "metadata": {},
      "outputs": [
        {
          "name": "stdout",
          "output_type": "stream",
          "text": [
            "Shape of BAD_SOURCE_emb: (1, 1024)\n",
            "Type of BAD_SOURCE_emb: <class 'numpy.ndarray'>\n"
          ]
        }
      ],
      "source": [
        "\n",
        "import numpy as np\n",
        "\n",
        "# Convert list to numpy array if it's not already\n",
        "if isinstance(BAD_SOURCE_emb, list):\n",
        "    BAD_SOURCE_emb = np.array(BAD_SOURCE_emb)\n",
        "\n",
        "# Now you can check the shape\n",
        "print(f\"Shape of BAD_SOURCE_emb: {BAD_SOURCE_emb.shape}\")\n",
        "print(f\"Type of BAD_SOURCE_emb: {type(BAD_SOURCE_emb)}\")"
      ]
    },
    {
      "cell_type": "markdown",
      "metadata": {},
      "source": [
        "The code below is added to resolve the error thrown by the cosine_similarity API due to the difference in dimensions of the objects to compare."
      ]
    },
    {
      "cell_type": "code",
      "execution_count": null,
      "metadata": {},
      "outputs": [],
      "source": [
        "\n",
        "import numpy as np\n",
        "from sklearn.decomposition import PCA\n",
        "\n",
        "# Since QUESTION_emb is 1024 dimensions and df['embedding'] is 1536\n",
        "#Reduce QUESTION_emb to 174 dimensions\n",
        "pca = PCA(n_components=174)\n",
        "reduced_question_emb = pca.fit_transform(QUESTION_emb)\n",
        "\n",
        "# # Then reduce df['embedding'] to the same 1024 dimensions\n",
        "  #\n",
        "\n",
        "# Create and fit PCA model\n",
        "pca = PCA(n_components=174)  # Initialize PCA object\n",
        "embeddings_array = np.stack([np.array(x) for x in df['embedding']])\n",
        "reduced_df_emb = pca.fit_transform(embeddings_array)  # Fit and transform the data"
      ]
    },
    {
      "cell_type": "code",
      "execution_count": null,
      "metadata": {},
      "outputs": [
        {
          "name": "stdout",
          "output_type": "stream",
          "text": [
            "[[ 1.          0.56942815  0.00202648 ... -0.05718282  0.12496564\n",
            "   0.16134031]\n",
            " [ 0.56942815  1.          0.03659397 ...  0.10547857  0.20367683\n",
            "   0.14249395]\n",
            " [ 0.00202648  0.03659397  1.         ... -0.02722841 -0.12049013\n",
            "  -0.118553  ]\n",
            " ...\n",
            " [-0.05718282  0.10547857 -0.02722841 ...  1.          0.3212876\n",
            "   0.27095496]\n",
            " [ 0.12496564  0.20367683 -0.12049013 ...  0.3212876   1.\n",
            "   0.47629768]\n",
            " [ 0.16134031  0.14249395 -0.118553   ...  0.27095496  0.47629768\n",
            "   1.        ]]\n"
          ]
        }
      ],
      "source": [
        "# The similarity between the questions and each part of the essay.\n",
        "cosine_similarities = cosine_similarity(reduced_question_emb, reduced_df_emb)\n",
        "\n",
        "print(cosine_similarities)"
      ]
    },
    {
      "cell_type": "code",
      "execution_count": null,
      "metadata": {},
      "outputs": [
        {
          "name": "stdout",
          "output_type": "stream",
          "text": [
            "[ 0 95  1]\n"
          ]
        }
      ],
      "source": [
        "import numpy as np\n",
        "\n",
        "number_of_chunks_to_retrieve = 3\n",
        "\n",
        "# Sort the scores\n",
        "highest_index = np.argmax(cosine_similarities)\n",
        "\n",
        "# Pick the N highest scored chunks\n",
        "indices = np.argsort(cosine_similarities[0])[::-1][:number_of_chunks_to_retrieve]\n",
        "print(indices)"
      ]
    },
    {
      "cell_type": "code",
      "execution_count": null,
      "metadata": {},
      "outputs": [
        {
          "name": "stdout",
          "output_type": "stream",
          "text": [
            "> Chunk 1\n",
            "LLM Variants and Meta's Open Source Before shedding light on four major trends, I'd share the latest Meta's Llama 2 and Code Llama. Meta's Llama 2 represents a sophisticated evolution in LLMs. This suite spans models pretrained and fine-tuned across a parameter spectrum of 7 billion to 70 billion. A specialized derivative, Llama 2-Chat, has been engineered explicitly for dialogue-centric applications. Benchmarking revealed Llama 2's superior performance over most extant open-source chat models. Human-centric evaluations, focusing on safety and utility metrics, positioned Llama 2-Chat as a potential contender against proprietary, closed-source counterparts. The development trajectory of Llama 2 emphasized rigorous fine-tuning methodologies. Meta's transparent delineation of these processes aims to catalyze community-driven advancements in LLMs, underscoring a commitment to collaborative and responsible AI development. Code Llama is built on top of Llama 2 and is available in three models: Code Llama, the found\n",
            "----\n",
            "> Chunk 2\n",
            "language processing, along with robust safety protocols and temporal reasoning, set new benchmarks for the field. While select limitations around math and coding exist presently, Llama 2's strengths far outweigh its weaknesses. As Meta continues honing Llama technology, this latest innovation promises to be truly transformative. By open-sourcing such an advanced model, Meta is propelling democratization and proliferation of AI across industries. From healthcare to education and beyond, Llama 2 stands to shape the landscape by putting groundbreaking language modeling into the hands of all developers and researchers. The possibilities unlocked by this open-source approach signal a shift towards a more collaborative, creative AI future.\n",
            "----\n",
            "> Chunk 3\n",
            "ational code model;Codel Llama - Python specialized for Python;and Code Llama - Instruct, which is fine-tuned for understanding natural language instructions. Based on its benchmark testing, Code Llama outperformed state-of-the-art publicly available LLMs (except GPT-4) on code tasks. Llama 2, Llama 2-Chat, and Code Llama are key steps in LLM development but still have a way to go compared to GPT-4. Meta's open access and commitment to improving these models promise transparent and faster LLM progress in the future. Please refer to the LLM and Llama variants below:  From LLMs to Multimodal LLMs, like OpenAI's ChatGPT (GPT-3.5), primarily focus on understanding and generating human language. They've been instrumental in tasks like text generation, translation, and even creative writing. However, their scope is limited to text. Enter multimodal models like GPT-4. These are a new breed of AI models that can understand and generate not just text, but also images, sounds, and potentially other types of data. The t\n",
            "----\n"
          ]
        }
      ],
      "source": [
        "# Look at the highest scored retrieved pieces of text\n",
        "for idx, item in enumerate(df.chunk[indices]):\n",
        "    print(f\"> Chunk {idx+1}\")\n",
        "    print(item)\n",
        "    print(\"----\")"
      ]
    },
    {
      "cell_type": "markdown",
      "metadata": {},
      "source": [
        "The chunks retrieved are bad.\n",
        "[TODO]: Did the PCA mess up the chunk retrieval?"
      ]
    },
    {
      "cell_type": "code",
      "execution_count": null,
      "metadata": {},
      "outputs": [],
      "source": [
        "%pip install google-generativeai==0.8.4"
      ]
    },
    {
      "cell_type": "markdown",
      "metadata": {
        "id": "7uvQACqAkHg4"
      },
      "source": [
        "# Augment the Prompt\n"
      ]
    },
    {
      "cell_type": "code",
      "execution_count": null,
      "metadata": {
        "id": "sw1lb0dJ6vP7"
      },
      "outputs": [],
      "source": [
        "import google.generativeai as genai\n",
        "# Use the Gemini API to answer the questions based on the retrieved pieces of text.\n",
        "try:\n",
        "    # Formulating the system prompt and condition the model to answer only AI-related questions.\n",
        "    system_prompt = (\n",
        "        \"You are an assistant and expert in answering questions from a chunks of content. \"\n",
        "        \"Only answer AI-related question, else say that you cannot answer this question.\"\n",
        "    )\n",
        "\n",
        "    # Create a user prompt with the user's question\n",
        "    prompt = (\n",
        "        \"Read the following informations that might contain the context you require to answer the question. You can use the informations starting from the <START_OF_CONTEXT> tag and end with the <END_OF_CONTEXT> tag. Here is the content:\\n\\n<START_OF_CONTEXT>\\n{}\\n<END_OF_CONTEXT>\\n\\n\"\n",
        "        \"Please provide an informative and accurate answer to the following question based on the avaiable context. Be concise and take your time. \\nQuestion: {}\\nAnswer:\"\n",
        "    )\n",
        "    # Add the retrieved pieces of text to the prompt.\n",
        "    prompt = prompt.format(\"\".join(df.chunk[indices]), QUESTION)\n",
        "\n",
        "    model = genai.GenerativeModel(model_name= \"gemini-1.5-flash\", system_instruction=system_prompt)\n",
        "\n",
        "    result = model.generate_content(prompt,request_options={\"timeout\": 1000},)\n",
        "    res = result.text\n",
        "\n",
        "except Exception as e:\n",
        "    print(f\"An error occurred: {e}\")"
      ]
    },
    {
      "cell_type": "code",
      "execution_count": null,
      "metadata": {
        "colab": {
          "base_uri": "https://localhost:8080/"
        },
        "id": "9tBvJ8oMucha",
        "outputId": "9e332492-71c6-4646-c035-70f7d05149b7"
      },
      "outputs": [
        {
          "name": "stdout",
          "output_type": "stream",
          "text": [
            "LLaMA 2 is available in four sizes: 7 billion, 13 billion, 34 billion, and 70 billion parameters.\n",
            "\n"
          ]
        }
      ],
      "source": [
        "print(res)"
      ]
    },
    {
      "cell_type": "markdown",
      "metadata": {
        "id": "Aamim8n6RZHO"
      },
      "source": [
        "## How Augmenting the Prompt can address knowledge cutoff limitations and hallucinations"
      ]
    },
    {
      "cell_type": "code",
      "execution_count": null,
      "metadata": {
        "id": "jAPOfX9fSKai"
      },
      "outputs": [],
      "source": [
        "# Consider this as a retrieved chunk\n",
        "# https://ai.meta.com/blog/meta-llama-3-1/\n",
        "Example_chunk = \"\"\"\n",
        "Introducing Llama 3.1 Llama 3.1 405B is the first openly available model that rivals the top AI models when it comes to state-of-the-art capabilities in general knowledge, steerability, math, tool use, and multilingual translation. With the release of the 405B model, we’re poised to supercharge innovation—with unprecedented opportunities for growth and exploration. We believe the latest generation of Llama will ignite new applications and modeling paradigms, including synthetic data generation to enable the improvement and training of smaller models, as well as model distillation—a capability that has never been achieved at this scale in open source.\n",
        "As part of this latest release, we’re introducing upgraded versions of the 8B and 70B models. These are multilingual and have a significantly longer context length of 128K, state-of-the-art tool use, and overall stronger reasoning capabilities. This enables our latest models to support advanced use cases, such as long-form text summarization, multilingual conversational agents, and coding assistants. We’ve also made changes to our license, allowing developers to use the outputs from Llama models—including the 405B—to improve other models. True to our commitment to open source, starting today, we’re making these models available to the community for download on llama.meta.com and Hugging Face and available for immediate development on our broad ecosystem of partner platforms. Model evaluations\n",
        "For this release, we evaluated performance on over 150 benchmark datasets that span a wide range of languages. In addition, we performed extensive human evaluations that compare Llama 3.1 with competing models in real-world scenarios. Our experimental evaluation suggests that our flagship model is competitive with leading foundation models across a range of tasks, including GPT-4, GPT-4o, and Claude 3.5 Sonnet. Additionally, our smaller models are competitive with closed and open models that have a similar number of parameters.\n",
        "Model Architecture As our largest model yet, training Llama 3.1 405B on over 15 trillion tokens was a major challenge. To enable training runs at this scale and achieve the results we have in a reasonable amount of time, we significantly optimized our full training stack and pushed our model training to over 16 thousand H100 GPUs, making the 405B the first Llama model trained at this scale.\n",
        "To address this, we made design choices that focus on keeping the model development process scalable and straightforward. We opted for a standard decoder-only transformer model architecture with minor adaptations rather than a mixture-of-experts model to maximize training stability.\n",
        "We adopted an iterative post-training procedure, where each round uses supervised fine-tuning and direct preference optimization. This enabled us to create the highest quality synthetic data for each round and improve each capability’s performance.\n",
        "Compared to previous versions of Llama, we improved both the quantity and quality of the data we use for pre- and post-training. These improvements include the development of more careful pre-processing and curation pipelines for pre-training data, the development of more rigorous quality assurance, and filtering approaches for post-training data.\n",
        "\"\"\""
      ]
    },
    {
      "cell_type": "code",
      "execution_count": null,
      "metadata": {
        "colab": {
          "base_uri": "https://localhost:8080/"
        },
        "id": "E28JMT8mSKUf",
        "outputId": "2afca017-7093-42f9-a477-a2a732f29017"
      },
      "outputs": [
        {
          "name": "stdout",
          "output_type": "stream",
          "text": [
            "The LLaMA 3.1 model has **405 billion parameters**. \n",
            "\n"
          ]
        }
      ],
      "source": [
        "QUESTION = \"How many parameters LLaMA 3.1 model has?\"\n",
        "\n",
        "# Formulating the system prompt\n",
        "system_prompt = (\n",
        "        \"You are an assistant and expert in answering questions from a chunks of content. \"\n",
        "        \"Only answer AI-related question, else say that you cannot answer this question.\"\n",
        "    )\n",
        "# Combining the system prompt with the user's question\n",
        "prompt = (\n",
        "        \"Read the following informations that might contain the context you require to answer the question. You can use the informations starting from the <START_OF_CONTEXT> tag and end with the <END_OF_CONTEXT> tag. Here is the content:\\n\\n<START_OF_CONTEXT>\\n{}\\n<END_OF_CONTEXT>\\n\\n\"\n",
        "        \"Please provide an informative and accurate answer to the following question based on the avaiable context. Be concise and take your time. \\nQuestion: {}\\nAnswer:\"\n",
        "    )\n",
        "prompt = prompt.format(Example_chunk, QUESTION)\n",
        "\n",
        "model = genai.GenerativeModel(model_name= \"gemini-1.5-flash\", system_instruction=system_prompt)\n",
        "\n",
        "#Gemini API call\n",
        "result = model.generate_content(prompt,request_options={\"timeout\": 1000},)\n",
        "res = result.text\n",
        "print(res)"
      ]
    },
    {
      "cell_type": "markdown",
      "metadata": {
        "id": "pW-BNCAC2JzE"
      },
      "source": [
        "# Without Augmentation\n"
      ]
    },
    {
      "cell_type": "markdown",
      "metadata": {
        "id": "tr5zXEGIMwJu"
      },
      "source": [
        "Test the Gemini API to answer the same question without the addition of retrieved documents. Basically, the LLM will use its knowledge to answer the question.\n"
      ]
    },
    {
      "cell_type": "code",
      "execution_count": null,
      "metadata": {
        "id": "RuyXjzZyuecE"
      },
      "outputs": [],
      "source": [
        "QUESTION = \"How many parameters LLaMA 3 model has?\"\n",
        "\n",
        "# Formulating the system prompt\n",
        "system_prompt = \"You are an assistant and expert in answering questions.\"\n",
        "\n",
        "# Combining the system prompt with the user's question\n",
        "prompt = \"Be concise and take your time to answer the following question. \\nQuestion: {}\\nAnswer:\"\n",
        "prompt = prompt.format(QUESTION)\n",
        "\n",
        "model = genai.GenerativeModel(model_name= \"gemini-1.5-flash\", system_instruction=system_prompt)\n",
        "\n",
        "#Gemini API call\n",
        "result = model.generate_content(prompt,request_options={\"timeout\": 1000},)\n",
        "res = result.text"
      ]
    },
    {
      "cell_type": "code",
      "execution_count": null,
      "metadata": {
        "colab": {
          "base_uri": "https://localhost:8080/"
        },
        "id": "YAy34tPTzGbh",
        "outputId": "134022f6-5067-45a4-bdb7-c6513aded50c"
      },
      "outputs": [
        {
          "name": "stdout",
          "output_type": "stream",
          "text": [
            "LLaMA 3 has **34 billion parameters**. \n",
            "\n"
          ]
        }
      ],
      "source": [
        "print(res)"
      ]
    },
    {
      "cell_type": "code",
      "execution_count": null,
      "metadata": {
        "id": "jCEapX5C83m2"
      },
      "outputs": [],
      "source": []
    }
  ],
  "metadata": {
    "colab": {
      "provenance": []
    },
    "kernelspec": {
      "display_name": "Python 3 (ipykernel)",
      "language": "python",
      "name": "python3"
    },
    "language_info": {
      "codemirror_mode": {
        "name": "ipython",
        "version": 3
      },
      "file_extension": ".py",
      "mimetype": "text/x-python",
      "name": "python",
      "nbconvert_exporter": "python",
      "pygments_lexer": "ipython3",
      "version": "3.9.7"
    }
  },
  "nbformat": 4,
  "nbformat_minor": 0
}
